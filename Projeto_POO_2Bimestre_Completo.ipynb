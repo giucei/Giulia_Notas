{
 "cells": [
  {
   "attachments": {},
   "cell_type": "markdown",
   "id": "fcbe0b0b",
   "metadata": {},
   "source": [
    "# 📘 Projeto de Programação Orientada a Objetos – 2º Bimestre\n",
    "\n",
    "**Nome do Aluno:**  Giulia Oliveira Cei\n",
    "\n",
    "**Turma:** 2ATI\n",
    "\n",
    "**Tema Escolhido:** Acompanhamento de notas de alunos"
   ]
  },
  {
   "cell_type": "markdown",
   "id": "47e697ce",
   "metadata": {},
   "source": [
    "Lembre-se esse projeto deve ser personalizado, todas as classe e metodos devem ter uma referencia ao seu nome, exemplo:\n",
    "\n",
    "class Carro_Fabio:\n",
    "\n",
    "    def __init__(self, tipo, cor, rodas):\n",
    "        self.tipo = tipo\n",
    "        self.cor = cor\n",
    "        self.rodas = rodas\n",
    "        \n",
    "    def alterar_cor_Fabio(self, nova_cor):\n",
    "        self.cor = nova_cor\n",
    "        return self.cor\n",
    "    "
   ]
  },
  {
   "cell_type": "markdown",
   "id": "bf0b9458",
   "metadata": {},
   "source": [
    "## PARTE 1 – Classe Principal e Objetos\n",
    "\n",
    "**Tarefas:**\n",
    "- Definir e criar a classe principal com pelo menos 3 atributos.\n",
    "- Implementar o método construtor (`__init__`).\n",
    "- Criar pelo menos 2 objetos da classe principal.\n",
    "- Implementar um método de exibição de dados.\n",
    "\n",
    "**Código:**"
   ]
  },
  {
   "cell_type": "code",
   "execution_count": 1,
   "id": "5721fa89",
   "metadata": {},
   "outputs": [
    {
     "ename": "NameError",
     "evalue": "name 'Aluno' is not defined",
     "output_type": "error",
     "traceback": [
      "\u001b[31m---------------------------------------------------------------------------\u001b[39m",
      "\u001b[31mNameError\u001b[39m                                 Traceback (most recent call last)",
      "\u001b[36mCell\u001b[39m\u001b[36m \u001b[39m\u001b[32mIn[1]\u001b[39m\u001b[32m, line 16\u001b[39m\n\u001b[32m     13\u001b[39m         \u001b[38;5;28mprint\u001b[39m(\u001b[33m\"\u001b[39m\u001b[33m-\u001b[39m\u001b[33m\"\u001b[39m * \u001b[32m30\u001b[39m)\n\u001b[32m     15\u001b[39m \u001b[38;5;66;03m# Criando objetos da classe Aluno\u001b[39;00m\n\u001b[32m---> \u001b[39m\u001b[32m16\u001b[39m aluno1 = \u001b[43mAluno\u001b[49m(\u001b[33m\"\u001b[39m\u001b[33mGiulia Oliveira\u001b[39m\u001b[33m\"\u001b[39m, \u001b[33m\"\u001b[39m\u001b[33m20231001\u001b[39m\u001b[33m\"\u001b[39m, \u001b[32m8.5\u001b[39m)\n\u001b[32m     17\u001b[39m aluno2 = Aluno(\u001b[33m\"\u001b[39m\u001b[33mCarla Ribeiro\u001b[39m\u001b[33m\"\u001b[39m, \u001b[33m\"\u001b[39m\u001b[33m20231002\u001b[39m\u001b[33m\"\u001b[39m, \u001b[32m7.2\u001b[39m)\n\u001b[32m     19\u001b[39m \u001b[38;5;66;03m# Exibindo os dados dos alunos\u001b[39;00m\n",
      "\u001b[31mNameError\u001b[39m: name 'Aluno' is not defined"
     ]
    }
   ],
   "source": [
    "# Definindo a classe Aluno teste\n",
    "class Aluno_Giulia:\n",
    "    def __init__(self, nome, matricula, nota):\n",
    "        self.nome = nome\n",
    "        self.matricula = matricula\n",
    "        self.nota = nota\n",
    "\n",
    "    # Método para exibir os dados do aluno\n",
    "    def exibir_dados(self):\n",
    "        print(f\"Nome: {self.nome}\")\n",
    "        print(f\"Matrícula: {self.matricula}\")\n",
    "        print(f\"Nota: {self.nota}\")\n",
    "        print(\"-\" * 30)\n",
    "\n",
    "# Criando objetos da classe Aluno\n",
    "aluno1 = Aluno(\"Giulia Oliveira\", \"20231001\", 8.5)\n",
    "aluno2 = Aluno(\"Carla Ribeiro\", \"20231002\", 7.2)\n",
    "\n",
    "# Exibindo os dados dos alunos\n",
    "aluno1.exibir_dados()\n",
    "aluno2.exibir_dados()\n",
    "\n"
   ]
  },
  {
   "cell_type": "markdown",
   "id": "f2cf3375",
   "metadata": {},
   "source": [
    "## PARTE 2 – Métodos e Herança\n",
    "\n",
    "**Tarefas:**\n",
    "- Criar pelo menos 2 métodos de ação para a classe principal.\n",
    "- Criar uma subclasse herdando da classe principal.\n",
    "- Adicionar pelo menos 1 novo atributo e 1 novo método exclusivo na subclasse.\n",
    "- Utilizar `super()` no construtor da subclasse.\n",
    "\n",
    "**Código:**"
   ]
  },
  {
   "cell_type": "code",
   "execution_count": 2,
   "id": "5f456eb1",
   "metadata": {},
   "outputs": [],
   "source": [
    "# Classe principal: Aluno\n",
    "class Aluno:\n",
    "    def __init__(self, nome, matricula, nota):\n",
    "        self.nome = nome\n",
    "        self.matricula = matricula\n",
    "        self.nota = nota\n",
    "\n",
    "    # Método para exibir os dados\n",
    "    def exibir_dados(self):\n",
    "        print(f\"Nome: {self.nome}\")\n",
    "        print(f\"Matrícula: {self.matricula}\")\n",
    "        print(f\"Nota: {self.nota}\")\n",
    "\n",
    "    # Método para verificar se o aluno foi aprovado\n",
    "    def verificar_aprovacao(self):\n",
    "        if self.nota >= 7:\n",
    "            return \"Aprovado\"\n",
    "        else:\n",
    "            return \"Reprovado\"\n",
    "\n",
    "    # Método para atualizar a nota\n",
    "    def atualizar_nota(self, nova_nota):\n",
    "        self.nota = nova_nota\n",
    "        print(f\"Nota atualizada para: {self.nota}\")\n",
    "\n",
    "# Subclasse: AlunoPosGraduacao\n",
    "class AlunoPosGraduacao(Aluno):\n",
    "    def __init__(self, nome, matricula, nota, tema_pesquisa):\n",
    "        super().__init__(nome, matricula, nota)\n",
    "        self.tema_pesquisa = tema_pesquisa\n",
    "\n",
    "    # Método exclusivo da subclasse\n",
    "    def exibir_tema_pesquisa(self):\n",
    "        print(f\"Tema de Pesquisa: {self.tema_pesquisa}\")\n",
    "\n",
    "# Criando objetos\n",
    "aluno1 = Aluno(\"Ana Silva\", \"20231001\", 8.5)\n",
    "aluno2 = AlunoPosGraduacao(\"Carlos Souza\", \"20231002\", 7.2, \"Inteligência Artificial\")\n",
    "\n",
    "# Exibindo dados e usando métodos\n",
    "aluno1.exibir_dados()\n",
    "print(\"Status:\", aluno1.verificar_aprovacao())\n",
    "aluno1.atualizar_nota(9.0)\n",
    "print()\n",
    "\n",
    "aluno2.exibir_dados()\n",
    "print(\"Status:\", aluno2.verificar_aprovacao())\n",
    "aluno2.exibir_tema_pesquisa()"
   ]
  },
  {
   "cell_type": "markdown",
   "id": "3e0a77b0",
   "metadata": {},
   "source": [
    "## PARTE 3 – Encapsulamento e Abstração\n",
    "\n",
    "**Tarefas:**\n",
    "- Tornar pelo menos 1 atributo da classe principal privado (`__atributo`).\n",
    "- Criar métodos `get` e `set` para o atributo privado.\n",
    "- Implementar um método que contenha lógica interna (ex: cálculo, verificação).\n",
    "\n",
    "**Código:**"
   ]
  },
  {
   "cell_type": "code",
   "execution_count": 3,
   "id": "0bdb445e",
   "metadata": {},
   "outputs": [],
   "source": [
    "# Desenvolva aqui o código da Parte 3"
   ]
  },
  {
   "cell_type": "markdown",
   "id": "fb9df3e9",
   "metadata": {},
   "source": [
    "## PARTE 4 – Polimorfismo e Banco de Dados\n",
    "\n",
    "**Tarefas:**\n",
    "- Implementar polimorfismo: sobrescrever um método na subclasse.\n",
    "- Integrar o sistema com banco de dados (MySQL ou SQLite).\n",
    "- Implementar inserção (INSERT), consulta (SELECT) e exclusão (DELETE) de registros no banco de dados.\n",
    "\n",
    "**Código:**"
   ]
  },
  {
   "cell_type": "code",
   "execution_count": 4,
   "id": "56a4c46a",
   "metadata": {},
   "outputs": [],
   "source": [
    "# Desenvolva aqui o código da Parte 4"
   ]
  },
  {
   "cell_type": "markdown",
   "id": "d8bbf974",
   "metadata": {},
   "source": [
    "## PARTE 5 – Projeto Final e Organização\n",
    "\n",
    "**Tarefas:**\n",
    "- Consolidar todas as partes do projeto em um único script organizado.\n",
    "- Comentar o código explicando cada parte.\n",
    "- Testar todas as funcionalidades.\n",
    "\n",
    "**Código:**"
   ]
  },
  {
   "cell_type": "code",
   "execution_count": null,
   "id": "54b3cdd7",
   "metadata": {},
   "outputs": [],
   "source": [
    "# Desenvolva aqui o código da Parte 5"
   ]
  }
 ],
 "metadata": {
  "kernelspec": {
   "display_name": "Python 3",
   "language": "python",
   "name": "python3"
  },
  "language_info": {
   "codemirror_mode": {
    "name": "ipython",
    "version": 3
   },
   "file_extension": ".py",
   "mimetype": "text/x-python",
   "name": "python",
   "nbconvert_exporter": "python",
   "pygments_lexer": "ipython3",
   "version": "3.12.5"
  },
  "vscode": {
   "interpreter": {
    "hash": "9240d949b7e875368571ba59acc67192d2efbcc4561b3c6f94c83d7858e18732"
   }
  }
 },
 "nbformat": 4,
 "nbformat_minor": 5
}
